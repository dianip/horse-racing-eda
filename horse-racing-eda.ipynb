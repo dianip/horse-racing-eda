{
 "cells": [
  {
   "metadata": {},
   "cell_type": "markdown",
   "source": "# --- Import Libraries ---",
   "id": "39aeda1bd42e62cf"
  },
  {
   "metadata": {
    "ExecuteTime": {
     "end_time": "2025-02-03T18:43:44.907650Z",
     "start_time": "2025-02-03T18:43:44.877295Z"
    }
   },
   "cell_type": "code",
   "source": [
    "import pandas as pd\n",
    "import numpy as np\n",
    "import matplotlib.pyplot as plt\n",
    "import seaborn as sns"
   ],
   "id": "fb2863193e64c64a",
   "outputs": [],
   "execution_count": 274
  },
  {
   "metadata": {},
   "cell_type": "markdown",
   "source": "# --- Upload Dataset ---",
   "id": "fddd76e982edd93f"
  },
  {
   "metadata": {
    "ExecuteTime": {
     "end_time": "2025-02-03T18:43:45.474556Z",
     "start_time": "2025-02-03T18:43:45.035954Z"
    }
   },
   "cell_type": "code",
   "source": [
    "# load the horses dataset into df\n",
    "df = pd.read_csv('data/Horses.csv')"
   ],
   "id": "d60e0bbc9f25da8a",
   "outputs": [],
   "execution_count": 275
  },
  {
   "metadata": {},
   "cell_type": "markdown",
   "source": "# --- Quick Dataset Exploration ---",
   "id": "d09d11809c2b5e60"
  },
  {
   "metadata": {
    "collapsed": true,
    "ExecuteTime": {
     "end_time": "2025-02-03T18:43:45.568594Z",
     "start_time": "2025-02-03T18:43:45.517521Z"
    }
   },
   "cell_type": "code",
   "source": [
    "# display a sample of the df\n",
    "df.head()"
   ],
   "id": "initial_id",
   "outputs": [
    {
     "data": {
      "text/plain": [
       "   RaceID  HorseID  Cloth  Stall  WeightValue   JockeyID  AllowanceValue  \\\n",
       "0  989418  2963489      7    5.0          132  1398052.0             NaN   \n",
       "1  989418  2972665     13    6.0          132  1165412.0             NaN   \n",
       "2  989418  2972662      9    7.0          132  1239852.0             NaN   \n",
       "3  989418  2960365      1   12.0          132  1417524.0             NaN   \n",
       "4  989418  2968596     11    8.0          132  1354773.0             NaN   \n",
       "\n",
       "   OverweightValue  TrainerID    OwnerID  ...  Going  Weather  \\\n",
       "0              NaN    1198534  1289143.0  ...   Good   Cloudy   \n",
       "1              NaN    1188128  1140080.0  ...   Good   Cloudy   \n",
       "2              NaN    1199122  1448576.0  ...   Good   Cloudy   \n",
       "3              NaN    1049637  1487690.0  ...   Good   Cloudy   \n",
       "4              NaN    1140041  1403676.0  ...   Good   Cloudy   \n",
       "\n",
       "   Course_Distance  RaceType  TrackType  Handicap  eligibility  CourseID  \\\n",
       "0             1312      Flat       Turf       NaN     2YO only       380   \n",
       "1             1312      Flat       Turf       NaN     2YO only       380   \n",
       "2             1312      Flat       Turf       NaN     2YO only       380   \n",
       "3             1312      Flat       Turf       NaN     2YO only       380   \n",
       "4             1312      Flat       Turf       NaN     2YO only       380   \n",
       "\n",
       "   MeetingDate Won  \n",
       "0   02/05/2017   0  \n",
       "1   02/05/2017   0  \n",
       "2   02/05/2017   0  \n",
       "3   02/05/2017   1  \n",
       "4   02/05/2017   0  \n",
       "\n",
       "[5 rows x 46 columns]"
      ],
      "text/html": [
       "<div>\n",
       "<style scoped>\n",
       "    .dataframe tbody tr th:only-of-type {\n",
       "        vertical-align: middle;\n",
       "    }\n",
       "\n",
       "    .dataframe tbody tr th {\n",
       "        vertical-align: top;\n",
       "    }\n",
       "\n",
       "    .dataframe thead th {\n",
       "        text-align: right;\n",
       "    }\n",
       "</style>\n",
       "<table border=\"1\" class=\"dataframe\">\n",
       "  <thead>\n",
       "    <tr style=\"text-align: right;\">\n",
       "      <th></th>\n",
       "      <th>RaceID</th>\n",
       "      <th>HorseID</th>\n",
       "      <th>Cloth</th>\n",
       "      <th>Stall</th>\n",
       "      <th>WeightValue</th>\n",
       "      <th>JockeyID</th>\n",
       "      <th>AllowanceValue</th>\n",
       "      <th>OverweightValue</th>\n",
       "      <th>TrainerID</th>\n",
       "      <th>OwnerID</th>\n",
       "      <th>...</th>\n",
       "      <th>Going</th>\n",
       "      <th>Weather</th>\n",
       "      <th>Course_Distance</th>\n",
       "      <th>RaceType</th>\n",
       "      <th>TrackType</th>\n",
       "      <th>Handicap</th>\n",
       "      <th>eligibility</th>\n",
       "      <th>CourseID</th>\n",
       "      <th>MeetingDate</th>\n",
       "      <th>Won</th>\n",
       "    </tr>\n",
       "  </thead>\n",
       "  <tbody>\n",
       "    <tr>\n",
       "      <th>0</th>\n",
       "      <td>989418</td>\n",
       "      <td>2963489</td>\n",
       "      <td>7</td>\n",
       "      <td>5.0</td>\n",
       "      <td>132</td>\n",
       "      <td>1398052.0</td>\n",
       "      <td>NaN</td>\n",
       "      <td>NaN</td>\n",
       "      <td>1198534</td>\n",
       "      <td>1289143.0</td>\n",
       "      <td>...</td>\n",
       "      <td>Good</td>\n",
       "      <td>Cloudy</td>\n",
       "      <td>1312</td>\n",
       "      <td>Flat</td>\n",
       "      <td>Turf</td>\n",
       "      <td>NaN</td>\n",
       "      <td>2YO only</td>\n",
       "      <td>380</td>\n",
       "      <td>02/05/2017</td>\n",
       "      <td>0</td>\n",
       "    </tr>\n",
       "    <tr>\n",
       "      <th>1</th>\n",
       "      <td>989418</td>\n",
       "      <td>2972665</td>\n",
       "      <td>13</td>\n",
       "      <td>6.0</td>\n",
       "      <td>132</td>\n",
       "      <td>1165412.0</td>\n",
       "      <td>NaN</td>\n",
       "      <td>NaN</td>\n",
       "      <td>1188128</td>\n",
       "      <td>1140080.0</td>\n",
       "      <td>...</td>\n",
       "      <td>Good</td>\n",
       "      <td>Cloudy</td>\n",
       "      <td>1312</td>\n",
       "      <td>Flat</td>\n",
       "      <td>Turf</td>\n",
       "      <td>NaN</td>\n",
       "      <td>2YO only</td>\n",
       "      <td>380</td>\n",
       "      <td>02/05/2017</td>\n",
       "      <td>0</td>\n",
       "    </tr>\n",
       "    <tr>\n",
       "      <th>2</th>\n",
       "      <td>989418</td>\n",
       "      <td>2972662</td>\n",
       "      <td>9</td>\n",
       "      <td>7.0</td>\n",
       "      <td>132</td>\n",
       "      <td>1239852.0</td>\n",
       "      <td>NaN</td>\n",
       "      <td>NaN</td>\n",
       "      <td>1199122</td>\n",
       "      <td>1448576.0</td>\n",
       "      <td>...</td>\n",
       "      <td>Good</td>\n",
       "      <td>Cloudy</td>\n",
       "      <td>1312</td>\n",
       "      <td>Flat</td>\n",
       "      <td>Turf</td>\n",
       "      <td>NaN</td>\n",
       "      <td>2YO only</td>\n",
       "      <td>380</td>\n",
       "      <td>02/05/2017</td>\n",
       "      <td>0</td>\n",
       "    </tr>\n",
       "    <tr>\n",
       "      <th>3</th>\n",
       "      <td>989418</td>\n",
       "      <td>2960365</td>\n",
       "      <td>1</td>\n",
       "      <td>12.0</td>\n",
       "      <td>132</td>\n",
       "      <td>1417524.0</td>\n",
       "      <td>NaN</td>\n",
       "      <td>NaN</td>\n",
       "      <td>1049637</td>\n",
       "      <td>1487690.0</td>\n",
       "      <td>...</td>\n",
       "      <td>Good</td>\n",
       "      <td>Cloudy</td>\n",
       "      <td>1312</td>\n",
       "      <td>Flat</td>\n",
       "      <td>Turf</td>\n",
       "      <td>NaN</td>\n",
       "      <td>2YO only</td>\n",
       "      <td>380</td>\n",
       "      <td>02/05/2017</td>\n",
       "      <td>1</td>\n",
       "    </tr>\n",
       "    <tr>\n",
       "      <th>4</th>\n",
       "      <td>989418</td>\n",
       "      <td>2968596</td>\n",
       "      <td>11</td>\n",
       "      <td>8.0</td>\n",
       "      <td>132</td>\n",
       "      <td>1354773.0</td>\n",
       "      <td>NaN</td>\n",
       "      <td>NaN</td>\n",
       "      <td>1140041</td>\n",
       "      <td>1403676.0</td>\n",
       "      <td>...</td>\n",
       "      <td>Good</td>\n",
       "      <td>Cloudy</td>\n",
       "      <td>1312</td>\n",
       "      <td>Flat</td>\n",
       "      <td>Turf</td>\n",
       "      <td>NaN</td>\n",
       "      <td>2YO only</td>\n",
       "      <td>380</td>\n",
       "      <td>02/05/2017</td>\n",
       "      <td>0</td>\n",
       "    </tr>\n",
       "  </tbody>\n",
       "</table>\n",
       "<p>5 rows × 46 columns</p>\n",
       "</div>"
      ]
     },
     "execution_count": 276,
     "metadata": {},
     "output_type": "execute_result"
    }
   ],
   "execution_count": 276
  },
  {
   "metadata": {
    "ExecuteTime": {
     "end_time": "2025-02-03T18:43:45.802051Z",
     "start_time": "2025-02-03T18:43:45.726635Z"
    }
   },
   "cell_type": "code",
   "source": [
    "# display summary of df\n",
    "df.info()"
   ],
   "id": "475f0d8b8d88637d",
   "outputs": [
    {
     "name": "stdout",
     "output_type": "stream",
     "text": [
      "<class 'pandas.core.frame.DataFrame'>\n",
      "RangeIndex: 36819 entries, 0 to 36818\n",
      "Data columns (total 46 columns):\n",
      " #   Column              Non-Null Count  Dtype  \n",
      "---  ------              --------------  -----  \n",
      " 0   RaceID              36819 non-null  int64  \n",
      " 1   HorseID             36819 non-null  int64  \n",
      " 2   Cloth               36819 non-null  int64  \n",
      " 3   Stall               36615 non-null  float64\n",
      " 4   WeightValue         36819 non-null  int64  \n",
      " 5   JockeyID            36818 non-null  float64\n",
      " 6   AllowanceValue      1609 non-null   float64\n",
      " 7   OverweightValue     106 non-null    float64\n",
      " 8   TrainerID           36819 non-null  int64  \n",
      " 9   OwnerID             36616 non-null  float64\n",
      " 10  LastRunDaysFlat     34300 non-null  float64\n",
      " 11  Age                 36616 non-null  float64\n",
      " 12  Blinkers            10342 non-null  float64\n",
      " 13  Hood                0 non-null      float64\n",
      " 14  Visor               68 non-null     float64\n",
      " 15  EyeShield           0 non-null      float64\n",
      " 16  Eyecover            0 non-null      float64\n",
      " 17  TongueStrap         0 non-null      float64\n",
      " 18  CheekPieces         0 non-null      float64\n",
      " 19  ForecastPrice       35092 non-null  object \n",
      " 20  StatCourse          8832 non-null   float64\n",
      " 21  StatDistance        7128 non-null   float64\n",
      " 22  StatCourseDistance  7456 non-null   float64\n",
      " 23  StartingPrice       32009 non-null  object \n",
      " 24  Bred                36819 non-null  object \n",
      " 25  DamID               36814 non-null  float64\n",
      " 26  SireID              36814 non-null  float64\n",
      " 27  DamSireID           36814 non-null  float64\n",
      " 28  Sex                 36814 non-null  object \n",
      " 29  Colour              36814 non-null  object \n",
      " 30  YearBorn            5160 non-null   float64\n",
      " 31  MeetingID           36819 non-null  int64  \n",
      " 32  RaceNumber          36819 non-null  int64  \n",
      " 33  ScheduledTime       36819 non-null  object \n",
      " 34  HorseCount          36819 non-null  int64  \n",
      " 35  Runners             36799 non-null  float64\n",
      " 36  Going               36441 non-null  object \n",
      " 37  Weather             36441 non-null  object \n",
      " 38  Course_Distance     36819 non-null  int64  \n",
      " 39  RaceType            36768 non-null  object \n",
      " 40  TrackType           36768 non-null  object \n",
      " 41  Handicap            17406 non-null  float64\n",
      " 42  eligibility         36768 non-null  object \n",
      " 43  CourseID            36819 non-null  int64  \n",
      " 44  MeetingDate         36819 non-null  object \n",
      " 45  Won                 36819 non-null  int64  \n",
      "dtypes: float64(23), int64(11), object(12)\n",
      "memory usage: 12.9+ MB\n"
     ]
    }
   ],
   "execution_count": 277
  },
  {
   "metadata": {
    "ExecuteTime": {
     "end_time": "2025-02-03T18:43:46.080739Z",
     "start_time": "2025-02-03T18:43:45.944160Z"
    }
   },
   "cell_type": "code",
   "source": [
    "# display stats of df\n",
    "df.describe()"
   ],
   "id": "8cfd45658abd385a",
   "outputs": [
    {
     "data": {
      "text/plain": [
       "             RaceID       HorseID         Cloth         Stall   WeightValue  \\\n",
       "count  3.681900e+04  3.681900e+04  36819.000000  36615.000000  36819.000000   \n",
       "mean   1.009771e+06  2.929157e+06      7.052446      7.053093    126.604389   \n",
       "std    1.144299e+04  5.846940e+04      4.208096      4.207354      6.066849   \n",
       "min    9.894180e+05  2.261982e+06      1.000000      1.000000    101.000000   \n",
       "25%    9.995280e+05  2.901713e+06      4.000000      4.000000    122.000000   \n",
       "50%    1.010457e+06  2.942103e+06      7.000000      7.000000    128.000000   \n",
       "75%    1.020003e+06  2.973182e+06     10.000000     10.000000    132.000000   \n",
       "max    1.029387e+06  3.013308e+06     30.000000     30.000000    148.000000   \n",
       "\n",
       "           JockeyID  AllowanceValue  OverweightValue     TrainerID  \\\n",
       "count  3.681800e+04     1609.000000       106.000000  3.681900e+04   \n",
       "mean   1.259822e+06        5.702921         1.320755  1.222769e+06   \n",
       "std    1.340399e+05        2.416773         0.834348  1.257340e+05   \n",
       "min    1.000173e+06        1.000000         1.000000  1.029939e+06   \n",
       "25%    1.140012e+06        3.000000         1.000000  1.140038e+06   \n",
       "50%    1.248797e+06        6.000000         1.000000  1.183787e+06   \n",
       "75%    1.390206e+06        9.000000         1.000000  1.288992e+06   \n",
       "max    1.503269e+06        9.000000         6.000000  1.502153e+06   \n",
       "\n",
       "            OwnerID  ...     DamSireID     YearBorn     MeetingID  \\\n",
       "count  3.661600e+04  ...  3.681400e+04  5160.000000  36819.000000   \n",
       "mean   1.384368e+06  ...  2.143072e+06  2010.779070  89455.046878   \n",
       "std    1.238528e+05  ...  1.539233e+05     0.970004   1328.259877   \n",
       "min    1.002822e+06  ...  2.000346e+06  2007.000000  87048.000000   \n",
       "25%    1.291745e+06  ...  2.005847e+06  2010.000000  88270.000000   \n",
       "50%    1.429344e+06  ...  2.113386e+06  2011.000000  89544.000000   \n",
       "75%    1.480139e+06  ...  2.222698e+06  2011.000000  90630.000000   \n",
       "max    1.503181e+06  ...  3.024790e+06  2014.000000  91584.000000   \n",
       "\n",
       "         RaceNumber    HorseCount       Runners  Course_Distance  \\\n",
       "count  36819.000000  36819.000000  36799.000000     36819.000000   \n",
       "mean       5.018387     13.048236     11.685861      1576.295364   \n",
       "std        2.643495      3.351323      2.660330       396.336788   \n",
       "min        1.000000      0.000000      4.000000       875.000000   \n",
       "25%        3.000000     11.000000     10.000000      1312.000000   \n",
       "50%        5.000000     13.000000     12.000000      1531.000000   \n",
       "75%        7.000000     15.000000     14.000000      1750.000000   \n",
       "max       13.000000     30.000000     27.000000      3938.000000   \n",
       "\n",
       "           Handicap      CourseID           Won  \n",
       "count  17406.000000  36819.000000  36819.000000  \n",
       "mean       0.996610    369.899182      0.078954  \n",
       "std        0.058123     31.985672      0.269670  \n",
       "min        0.000000    325.000000      0.000000  \n",
       "25%        1.000000    351.000000      0.000000  \n",
       "50%        1.000000    367.000000      0.000000  \n",
       "75%        1.000000    380.000000      0.000000  \n",
       "max        1.000000    442.000000      1.000000  \n",
       "\n",
       "[8 rows x 34 columns]"
      ],
      "text/html": [
       "<div>\n",
       "<style scoped>\n",
       "    .dataframe tbody tr th:only-of-type {\n",
       "        vertical-align: middle;\n",
       "    }\n",
       "\n",
       "    .dataframe tbody tr th {\n",
       "        vertical-align: top;\n",
       "    }\n",
       "\n",
       "    .dataframe thead th {\n",
       "        text-align: right;\n",
       "    }\n",
       "</style>\n",
       "<table border=\"1\" class=\"dataframe\">\n",
       "  <thead>\n",
       "    <tr style=\"text-align: right;\">\n",
       "      <th></th>\n",
       "      <th>RaceID</th>\n",
       "      <th>HorseID</th>\n",
       "      <th>Cloth</th>\n",
       "      <th>Stall</th>\n",
       "      <th>WeightValue</th>\n",
       "      <th>JockeyID</th>\n",
       "      <th>AllowanceValue</th>\n",
       "      <th>OverweightValue</th>\n",
       "      <th>TrainerID</th>\n",
       "      <th>OwnerID</th>\n",
       "      <th>...</th>\n",
       "      <th>DamSireID</th>\n",
       "      <th>YearBorn</th>\n",
       "      <th>MeetingID</th>\n",
       "      <th>RaceNumber</th>\n",
       "      <th>HorseCount</th>\n",
       "      <th>Runners</th>\n",
       "      <th>Course_Distance</th>\n",
       "      <th>Handicap</th>\n",
       "      <th>CourseID</th>\n",
       "      <th>Won</th>\n",
       "    </tr>\n",
       "  </thead>\n",
       "  <tbody>\n",
       "    <tr>\n",
       "      <th>count</th>\n",
       "      <td>3.681900e+04</td>\n",
       "      <td>3.681900e+04</td>\n",
       "      <td>36819.000000</td>\n",
       "      <td>36615.000000</td>\n",
       "      <td>36819.000000</td>\n",
       "      <td>3.681800e+04</td>\n",
       "      <td>1609.000000</td>\n",
       "      <td>106.000000</td>\n",
       "      <td>3.681900e+04</td>\n",
       "      <td>3.661600e+04</td>\n",
       "      <td>...</td>\n",
       "      <td>3.681400e+04</td>\n",
       "      <td>5160.000000</td>\n",
       "      <td>36819.000000</td>\n",
       "      <td>36819.000000</td>\n",
       "      <td>36819.000000</td>\n",
       "      <td>36799.000000</td>\n",
       "      <td>36819.000000</td>\n",
       "      <td>17406.000000</td>\n",
       "      <td>36819.000000</td>\n",
       "      <td>36819.000000</td>\n",
       "    </tr>\n",
       "    <tr>\n",
       "      <th>mean</th>\n",
       "      <td>1.009771e+06</td>\n",
       "      <td>2.929157e+06</td>\n",
       "      <td>7.052446</td>\n",
       "      <td>7.053093</td>\n",
       "      <td>126.604389</td>\n",
       "      <td>1.259822e+06</td>\n",
       "      <td>5.702921</td>\n",
       "      <td>1.320755</td>\n",
       "      <td>1.222769e+06</td>\n",
       "      <td>1.384368e+06</td>\n",
       "      <td>...</td>\n",
       "      <td>2.143072e+06</td>\n",
       "      <td>2010.779070</td>\n",
       "      <td>89455.046878</td>\n",
       "      <td>5.018387</td>\n",
       "      <td>13.048236</td>\n",
       "      <td>11.685861</td>\n",
       "      <td>1576.295364</td>\n",
       "      <td>0.996610</td>\n",
       "      <td>369.899182</td>\n",
       "      <td>0.078954</td>\n",
       "    </tr>\n",
       "    <tr>\n",
       "      <th>std</th>\n",
       "      <td>1.144299e+04</td>\n",
       "      <td>5.846940e+04</td>\n",
       "      <td>4.208096</td>\n",
       "      <td>4.207354</td>\n",
       "      <td>6.066849</td>\n",
       "      <td>1.340399e+05</td>\n",
       "      <td>2.416773</td>\n",
       "      <td>0.834348</td>\n",
       "      <td>1.257340e+05</td>\n",
       "      <td>1.238528e+05</td>\n",
       "      <td>...</td>\n",
       "      <td>1.539233e+05</td>\n",
       "      <td>0.970004</td>\n",
       "      <td>1328.259877</td>\n",
       "      <td>2.643495</td>\n",
       "      <td>3.351323</td>\n",
       "      <td>2.660330</td>\n",
       "      <td>396.336788</td>\n",
       "      <td>0.058123</td>\n",
       "      <td>31.985672</td>\n",
       "      <td>0.269670</td>\n",
       "    </tr>\n",
       "    <tr>\n",
       "      <th>min</th>\n",
       "      <td>9.894180e+05</td>\n",
       "      <td>2.261982e+06</td>\n",
       "      <td>1.000000</td>\n",
       "      <td>1.000000</td>\n",
       "      <td>101.000000</td>\n",
       "      <td>1.000173e+06</td>\n",
       "      <td>1.000000</td>\n",
       "      <td>1.000000</td>\n",
       "      <td>1.029939e+06</td>\n",
       "      <td>1.002822e+06</td>\n",
       "      <td>...</td>\n",
       "      <td>2.000346e+06</td>\n",
       "      <td>2007.000000</td>\n",
       "      <td>87048.000000</td>\n",
       "      <td>1.000000</td>\n",
       "      <td>0.000000</td>\n",
       "      <td>4.000000</td>\n",
       "      <td>875.000000</td>\n",
       "      <td>0.000000</td>\n",
       "      <td>325.000000</td>\n",
       "      <td>0.000000</td>\n",
       "    </tr>\n",
       "    <tr>\n",
       "      <th>25%</th>\n",
       "      <td>9.995280e+05</td>\n",
       "      <td>2.901713e+06</td>\n",
       "      <td>4.000000</td>\n",
       "      <td>4.000000</td>\n",
       "      <td>122.000000</td>\n",
       "      <td>1.140012e+06</td>\n",
       "      <td>3.000000</td>\n",
       "      <td>1.000000</td>\n",
       "      <td>1.140038e+06</td>\n",
       "      <td>1.291745e+06</td>\n",
       "      <td>...</td>\n",
       "      <td>2.005847e+06</td>\n",
       "      <td>2010.000000</td>\n",
       "      <td>88270.000000</td>\n",
       "      <td>3.000000</td>\n",
       "      <td>11.000000</td>\n",
       "      <td>10.000000</td>\n",
       "      <td>1312.000000</td>\n",
       "      <td>1.000000</td>\n",
       "      <td>351.000000</td>\n",
       "      <td>0.000000</td>\n",
       "    </tr>\n",
       "    <tr>\n",
       "      <th>50%</th>\n",
       "      <td>1.010457e+06</td>\n",
       "      <td>2.942103e+06</td>\n",
       "      <td>7.000000</td>\n",
       "      <td>7.000000</td>\n",
       "      <td>128.000000</td>\n",
       "      <td>1.248797e+06</td>\n",
       "      <td>6.000000</td>\n",
       "      <td>1.000000</td>\n",
       "      <td>1.183787e+06</td>\n",
       "      <td>1.429344e+06</td>\n",
       "      <td>...</td>\n",
       "      <td>2.113386e+06</td>\n",
       "      <td>2011.000000</td>\n",
       "      <td>89544.000000</td>\n",
       "      <td>5.000000</td>\n",
       "      <td>13.000000</td>\n",
       "      <td>12.000000</td>\n",
       "      <td>1531.000000</td>\n",
       "      <td>1.000000</td>\n",
       "      <td>367.000000</td>\n",
       "      <td>0.000000</td>\n",
       "    </tr>\n",
       "    <tr>\n",
       "      <th>75%</th>\n",
       "      <td>1.020003e+06</td>\n",
       "      <td>2.973182e+06</td>\n",
       "      <td>10.000000</td>\n",
       "      <td>10.000000</td>\n",
       "      <td>132.000000</td>\n",
       "      <td>1.390206e+06</td>\n",
       "      <td>9.000000</td>\n",
       "      <td>1.000000</td>\n",
       "      <td>1.288992e+06</td>\n",
       "      <td>1.480139e+06</td>\n",
       "      <td>...</td>\n",
       "      <td>2.222698e+06</td>\n",
       "      <td>2011.000000</td>\n",
       "      <td>90630.000000</td>\n",
       "      <td>7.000000</td>\n",
       "      <td>15.000000</td>\n",
       "      <td>14.000000</td>\n",
       "      <td>1750.000000</td>\n",
       "      <td>1.000000</td>\n",
       "      <td>380.000000</td>\n",
       "      <td>0.000000</td>\n",
       "    </tr>\n",
       "    <tr>\n",
       "      <th>max</th>\n",
       "      <td>1.029387e+06</td>\n",
       "      <td>3.013308e+06</td>\n",
       "      <td>30.000000</td>\n",
       "      <td>30.000000</td>\n",
       "      <td>148.000000</td>\n",
       "      <td>1.503269e+06</td>\n",
       "      <td>9.000000</td>\n",
       "      <td>6.000000</td>\n",
       "      <td>1.502153e+06</td>\n",
       "      <td>1.503181e+06</td>\n",
       "      <td>...</td>\n",
       "      <td>3.024790e+06</td>\n",
       "      <td>2014.000000</td>\n",
       "      <td>91584.000000</td>\n",
       "      <td>13.000000</td>\n",
       "      <td>30.000000</td>\n",
       "      <td>27.000000</td>\n",
       "      <td>3938.000000</td>\n",
       "      <td>1.000000</td>\n",
       "      <td>442.000000</td>\n",
       "      <td>1.000000</td>\n",
       "    </tr>\n",
       "  </tbody>\n",
       "</table>\n",
       "<p>8 rows × 34 columns</p>\n",
       "</div>"
      ]
     },
     "execution_count": 278,
     "metadata": {},
     "output_type": "execute_result"
    }
   ],
   "execution_count": 278
  },
  {
   "metadata": {
    "ExecuteTime": {
     "end_time": "2025-02-03T18:43:46.188020Z",
     "start_time": "2025-02-03T18:43:46.158950Z"
    }
   },
   "cell_type": "code",
   "source": [
    "# display missing values\n",
    "print(df.isnull().sum())"
   ],
   "id": "e51670a6e1fef934",
   "outputs": [
    {
     "name": "stdout",
     "output_type": "stream",
     "text": [
      "RaceID                    0\n",
      "HorseID                   0\n",
      "Cloth                     0\n",
      "Stall                   204\n",
      "WeightValue               0\n",
      "JockeyID                  1\n",
      "AllowanceValue        35210\n",
      "OverweightValue       36713\n",
      "TrainerID                 0\n",
      "OwnerID                 203\n",
      "LastRunDaysFlat        2519\n",
      "Age                     203\n",
      "Blinkers              26477\n",
      "Hood                  36819\n",
      "Visor                 36751\n",
      "EyeShield             36819\n",
      "Eyecover              36819\n",
      "TongueStrap           36819\n",
      "CheekPieces           36819\n",
      "ForecastPrice          1727\n",
      "StatCourse            27987\n",
      "StatDistance          29691\n",
      "StatCourseDistance    29363\n",
      "StartingPrice          4810\n",
      "Bred                      0\n",
      "DamID                     5\n",
      "SireID                    5\n",
      "DamSireID                 5\n",
      "Sex                       5\n",
      "Colour                    5\n",
      "YearBorn              31659\n",
      "MeetingID                 0\n",
      "RaceNumber                0\n",
      "ScheduledTime             0\n",
      "HorseCount                0\n",
      "Runners                  20\n",
      "Going                   378\n",
      "Weather                 378\n",
      "Course_Distance           0\n",
      "RaceType                 51\n",
      "TrackType                51\n",
      "Handicap              19413\n",
      "eligibility              51\n",
      "CourseID                  0\n",
      "MeetingDate               0\n",
      "Won                       0\n",
      "dtype: int64\n"
     ]
    }
   ],
   "execution_count": 279
  },
  {
   "metadata": {
    "ExecuteTime": {
     "end_time": "2025-02-03T18:43:46.433032Z",
     "start_time": "2025-02-03T18:43:46.356998Z"
    }
   },
   "cell_type": "code",
   "source": [
    "# count and display the number of exact duplicate rows\n",
    "duplicate_rows = df.duplicated().sum()\n",
    "print(\"Number of exact duplicate rows:\", duplicate_rows)"
   ],
   "id": "ae734db00f9239fd",
   "outputs": [
    {
     "name": "stdout",
     "output_type": "stream",
     "text": [
      "Number of exact duplicate rows: 0\n"
     ]
    }
   ],
   "execution_count": 280
  },
  {
   "metadata": {},
   "cell_type": "markdown",
   "source": [
    "Findings:\n",
    "- 'ScheduledTime' & 'MeetingDate' has placeholder values ('##########')\n",
    "- Many columns e.g. 'AllowanceValue', 'OverweightValue' & accessories like 'Hood' and 'Visor' are mostly empty with little values inputted \n",
    "- 'ForecastPrice' & 'StartingPrice' are an object with datetime and numerical values (assuming it should be purely numerical as its 'price')\n",
    "- 'Colour' has '/' which seems like ir could be an error/typo, or it could mean something that hasn't been defined"
   ],
   "id": "c859b200aec57758"
  },
  {
   "metadata": {},
   "cell_type": "markdown",
   "source": [
    "# --- Initial Data Cleaning ---\n",
    "### ***Clean Dataset Briefly***"
   ],
   "id": "74d9e9056705a94f"
  },
  {
   "metadata": {
    "ExecuteTime": {
     "end_time": "2025-02-03T18:43:46.776110Z",
     "start_time": "2025-02-03T18:43:46.738215Z"
    }
   },
   "cell_type": "code",
   "source": [
    "# replace placeholder values in 'ScheduledTime' and 'MeetingDate'\n",
    "placeholder_cols = ['ScheduledTime', 'MeetingDate']\n",
    "for col in placeholder_cols:\n",
    "    df[col] = df[col].replace('##########', np.nan)\n",
    "\n",
    "df.head()"
   ],
   "id": "cbc6ed4fc69710be",
   "outputs": [
    {
     "name": "stderr",
     "output_type": "stream",
     "text": [
      "C:\\Users\\diani\\AppData\\Local\\Temp\\ipykernel_13060\\4020293483.py:4: FutureWarning: Downcasting behavior in `replace` is deprecated and will be removed in a future version. To retain the old behavior, explicitly call `result.infer_objects(copy=False)`. To opt-in to the future behavior, set `pd.set_option('future.no_silent_downcasting', True)`\n",
      "  df[col] = df[col].replace('##########', np.nan)\n"
     ]
    },
    {
     "data": {
      "text/plain": [
       "   RaceID  HorseID  Cloth  Stall  WeightValue   JockeyID  AllowanceValue  \\\n",
       "0  989418  2963489      7    5.0          132  1398052.0             NaN   \n",
       "1  989418  2972665     13    6.0          132  1165412.0             NaN   \n",
       "2  989418  2972662      9    7.0          132  1239852.0             NaN   \n",
       "3  989418  2960365      1   12.0          132  1417524.0             NaN   \n",
       "4  989418  2968596     11    8.0          132  1354773.0             NaN   \n",
       "\n",
       "   OverweightValue  TrainerID    OwnerID  ...  Going  Weather  \\\n",
       "0              NaN    1198534  1289143.0  ...   Good   Cloudy   \n",
       "1              NaN    1188128  1140080.0  ...   Good   Cloudy   \n",
       "2              NaN    1199122  1448576.0  ...   Good   Cloudy   \n",
       "3              NaN    1049637  1487690.0  ...   Good   Cloudy   \n",
       "4              NaN    1140041  1403676.0  ...   Good   Cloudy   \n",
       "\n",
       "   Course_Distance  RaceType  TrackType  Handicap  eligibility  CourseID  \\\n",
       "0             1312      Flat       Turf       NaN     2YO only       380   \n",
       "1             1312      Flat       Turf       NaN     2YO only       380   \n",
       "2             1312      Flat       Turf       NaN     2YO only       380   \n",
       "3             1312      Flat       Turf       NaN     2YO only       380   \n",
       "4             1312      Flat       Turf       NaN     2YO only       380   \n",
       "\n",
       "   MeetingDate Won  \n",
       "0   02/05/2017   0  \n",
       "1   02/05/2017   0  \n",
       "2   02/05/2017   0  \n",
       "3   02/05/2017   1  \n",
       "4   02/05/2017   0  \n",
       "\n",
       "[5 rows x 46 columns]"
      ],
      "text/html": [
       "<div>\n",
       "<style scoped>\n",
       "    .dataframe tbody tr th:only-of-type {\n",
       "        vertical-align: middle;\n",
       "    }\n",
       "\n",
       "    .dataframe tbody tr th {\n",
       "        vertical-align: top;\n",
       "    }\n",
       "\n",
       "    .dataframe thead th {\n",
       "        text-align: right;\n",
       "    }\n",
       "</style>\n",
       "<table border=\"1\" class=\"dataframe\">\n",
       "  <thead>\n",
       "    <tr style=\"text-align: right;\">\n",
       "      <th></th>\n",
       "      <th>RaceID</th>\n",
       "      <th>HorseID</th>\n",
       "      <th>Cloth</th>\n",
       "      <th>Stall</th>\n",
       "      <th>WeightValue</th>\n",
       "      <th>JockeyID</th>\n",
       "      <th>AllowanceValue</th>\n",
       "      <th>OverweightValue</th>\n",
       "      <th>TrainerID</th>\n",
       "      <th>OwnerID</th>\n",
       "      <th>...</th>\n",
       "      <th>Going</th>\n",
       "      <th>Weather</th>\n",
       "      <th>Course_Distance</th>\n",
       "      <th>RaceType</th>\n",
       "      <th>TrackType</th>\n",
       "      <th>Handicap</th>\n",
       "      <th>eligibility</th>\n",
       "      <th>CourseID</th>\n",
       "      <th>MeetingDate</th>\n",
       "      <th>Won</th>\n",
       "    </tr>\n",
       "  </thead>\n",
       "  <tbody>\n",
       "    <tr>\n",
       "      <th>0</th>\n",
       "      <td>989418</td>\n",
       "      <td>2963489</td>\n",
       "      <td>7</td>\n",
       "      <td>5.0</td>\n",
       "      <td>132</td>\n",
       "      <td>1398052.0</td>\n",
       "      <td>NaN</td>\n",
       "      <td>NaN</td>\n",
       "      <td>1198534</td>\n",
       "      <td>1289143.0</td>\n",
       "      <td>...</td>\n",
       "      <td>Good</td>\n",
       "      <td>Cloudy</td>\n",
       "      <td>1312</td>\n",
       "      <td>Flat</td>\n",
       "      <td>Turf</td>\n",
       "      <td>NaN</td>\n",
       "      <td>2YO only</td>\n",
       "      <td>380</td>\n",
       "      <td>02/05/2017</td>\n",
       "      <td>0</td>\n",
       "    </tr>\n",
       "    <tr>\n",
       "      <th>1</th>\n",
       "      <td>989418</td>\n",
       "      <td>2972665</td>\n",
       "      <td>13</td>\n",
       "      <td>6.0</td>\n",
       "      <td>132</td>\n",
       "      <td>1165412.0</td>\n",
       "      <td>NaN</td>\n",
       "      <td>NaN</td>\n",
       "      <td>1188128</td>\n",
       "      <td>1140080.0</td>\n",
       "      <td>...</td>\n",
       "      <td>Good</td>\n",
       "      <td>Cloudy</td>\n",
       "      <td>1312</td>\n",
       "      <td>Flat</td>\n",
       "      <td>Turf</td>\n",
       "      <td>NaN</td>\n",
       "      <td>2YO only</td>\n",
       "      <td>380</td>\n",
       "      <td>02/05/2017</td>\n",
       "      <td>0</td>\n",
       "    </tr>\n",
       "    <tr>\n",
       "      <th>2</th>\n",
       "      <td>989418</td>\n",
       "      <td>2972662</td>\n",
       "      <td>9</td>\n",
       "      <td>7.0</td>\n",
       "      <td>132</td>\n",
       "      <td>1239852.0</td>\n",
       "      <td>NaN</td>\n",
       "      <td>NaN</td>\n",
       "      <td>1199122</td>\n",
       "      <td>1448576.0</td>\n",
       "      <td>...</td>\n",
       "      <td>Good</td>\n",
       "      <td>Cloudy</td>\n",
       "      <td>1312</td>\n",
       "      <td>Flat</td>\n",
       "      <td>Turf</td>\n",
       "      <td>NaN</td>\n",
       "      <td>2YO only</td>\n",
       "      <td>380</td>\n",
       "      <td>02/05/2017</td>\n",
       "      <td>0</td>\n",
       "    </tr>\n",
       "    <tr>\n",
       "      <th>3</th>\n",
       "      <td>989418</td>\n",
       "      <td>2960365</td>\n",
       "      <td>1</td>\n",
       "      <td>12.0</td>\n",
       "      <td>132</td>\n",
       "      <td>1417524.0</td>\n",
       "      <td>NaN</td>\n",
       "      <td>NaN</td>\n",
       "      <td>1049637</td>\n",
       "      <td>1487690.0</td>\n",
       "      <td>...</td>\n",
       "      <td>Good</td>\n",
       "      <td>Cloudy</td>\n",
       "      <td>1312</td>\n",
       "      <td>Flat</td>\n",
       "      <td>Turf</td>\n",
       "      <td>NaN</td>\n",
       "      <td>2YO only</td>\n",
       "      <td>380</td>\n",
       "      <td>02/05/2017</td>\n",
       "      <td>1</td>\n",
       "    </tr>\n",
       "    <tr>\n",
       "      <th>4</th>\n",
       "      <td>989418</td>\n",
       "      <td>2968596</td>\n",
       "      <td>11</td>\n",
       "      <td>8.0</td>\n",
       "      <td>132</td>\n",
       "      <td>1354773.0</td>\n",
       "      <td>NaN</td>\n",
       "      <td>NaN</td>\n",
       "      <td>1140041</td>\n",
       "      <td>1403676.0</td>\n",
       "      <td>...</td>\n",
       "      <td>Good</td>\n",
       "      <td>Cloudy</td>\n",
       "      <td>1312</td>\n",
       "      <td>Flat</td>\n",
       "      <td>Turf</td>\n",
       "      <td>NaN</td>\n",
       "      <td>2YO only</td>\n",
       "      <td>380</td>\n",
       "      <td>02/05/2017</td>\n",
       "      <td>0</td>\n",
       "    </tr>\n",
       "  </tbody>\n",
       "</table>\n",
       "<p>5 rows × 46 columns</p>\n",
       "</div>"
      ]
     },
     "execution_count": 281,
     "metadata": {},
     "output_type": "execute_result"
    }
   ],
   "execution_count": 281
  },
  {
   "metadata": {
    "ExecuteTime": {
     "end_time": "2025-02-03T18:43:47.054875Z",
     "start_time": "2025-02-03T18:43:46.964834Z"
    }
   },
   "cell_type": "code",
   "source": [
    "# clean 'ForecastPrice' and 'StartingPrice' columns\n",
    "def clean_price_column(col):\n",
    "    return pd.to_numeric(df[col].str.extract(r'([\\d.]+)', expand=False), errors='coerce')\n",
    "\n",
    "df['ForecastPrice'] = clean_price_column('ForecastPrice')\n",
    "df['StartingPrice'] = clean_price_column('StartingPrice')"
   ],
   "id": "baed6643c9881dcd",
   "outputs": [],
   "execution_count": 282
  },
  {
   "metadata": {
    "ExecuteTime": {
     "end_time": "2025-02-03T18:43:47.196423Z",
     "start_time": "2025-02-03T18:43:47.177125Z"
    }
   },
   "cell_type": "code",
   "source": [
    "# check that the changes have been made correctly\n",
    "df.head()"
   ],
   "id": "27cb9c66298df60d",
   "outputs": [
    {
     "data": {
      "text/plain": [
       "   RaceID  HorseID  Cloth  Stall  WeightValue   JockeyID  AllowanceValue  \\\n",
       "0  989418  2963489      7    5.0          132  1398052.0             NaN   \n",
       "1  989418  2972665     13    6.0          132  1165412.0             NaN   \n",
       "2  989418  2972662      9    7.0          132  1239852.0             NaN   \n",
       "3  989418  2960365      1   12.0          132  1417524.0             NaN   \n",
       "4  989418  2968596     11    8.0          132  1354773.0             NaN   \n",
       "\n",
       "   OverweightValue  TrainerID    OwnerID  ...  Going  Weather  \\\n",
       "0              NaN    1198534  1289143.0  ...   Good   Cloudy   \n",
       "1              NaN    1188128  1140080.0  ...   Good   Cloudy   \n",
       "2              NaN    1199122  1448576.0  ...   Good   Cloudy   \n",
       "3              NaN    1049637  1487690.0  ...   Good   Cloudy   \n",
       "4              NaN    1140041  1403676.0  ...   Good   Cloudy   \n",
       "\n",
       "   Course_Distance  RaceType  TrackType  Handicap  eligibility  CourseID  \\\n",
       "0             1312      Flat       Turf       NaN     2YO only       380   \n",
       "1             1312      Flat       Turf       NaN     2YO only       380   \n",
       "2             1312      Flat       Turf       NaN     2YO only       380   \n",
       "3             1312      Flat       Turf       NaN     2YO only       380   \n",
       "4             1312      Flat       Turf       NaN     2YO only       380   \n",
       "\n",
       "   MeetingDate  Won  \n",
       "0   02/05/2017    0  \n",
       "1   02/05/2017    0  \n",
       "2   02/05/2017    0  \n",
       "3   02/05/2017    1  \n",
       "4   02/05/2017    0  \n",
       "\n",
       "[5 rows x 46 columns]"
      ],
      "text/html": [
       "<div>\n",
       "<style scoped>\n",
       "    .dataframe tbody tr th:only-of-type {\n",
       "        vertical-align: middle;\n",
       "    }\n",
       "\n",
       "    .dataframe tbody tr th {\n",
       "        vertical-align: top;\n",
       "    }\n",
       "\n",
       "    .dataframe thead th {\n",
       "        text-align: right;\n",
       "    }\n",
       "</style>\n",
       "<table border=\"1\" class=\"dataframe\">\n",
       "  <thead>\n",
       "    <tr style=\"text-align: right;\">\n",
       "      <th></th>\n",
       "      <th>RaceID</th>\n",
       "      <th>HorseID</th>\n",
       "      <th>Cloth</th>\n",
       "      <th>Stall</th>\n",
       "      <th>WeightValue</th>\n",
       "      <th>JockeyID</th>\n",
       "      <th>AllowanceValue</th>\n",
       "      <th>OverweightValue</th>\n",
       "      <th>TrainerID</th>\n",
       "      <th>OwnerID</th>\n",
       "      <th>...</th>\n",
       "      <th>Going</th>\n",
       "      <th>Weather</th>\n",
       "      <th>Course_Distance</th>\n",
       "      <th>RaceType</th>\n",
       "      <th>TrackType</th>\n",
       "      <th>Handicap</th>\n",
       "      <th>eligibility</th>\n",
       "      <th>CourseID</th>\n",
       "      <th>MeetingDate</th>\n",
       "      <th>Won</th>\n",
       "    </tr>\n",
       "  </thead>\n",
       "  <tbody>\n",
       "    <tr>\n",
       "      <th>0</th>\n",
       "      <td>989418</td>\n",
       "      <td>2963489</td>\n",
       "      <td>7</td>\n",
       "      <td>5.0</td>\n",
       "      <td>132</td>\n",
       "      <td>1398052.0</td>\n",
       "      <td>NaN</td>\n",
       "      <td>NaN</td>\n",
       "      <td>1198534</td>\n",
       "      <td>1289143.0</td>\n",
       "      <td>...</td>\n",
       "      <td>Good</td>\n",
       "      <td>Cloudy</td>\n",
       "      <td>1312</td>\n",
       "      <td>Flat</td>\n",
       "      <td>Turf</td>\n",
       "      <td>NaN</td>\n",
       "      <td>2YO only</td>\n",
       "      <td>380</td>\n",
       "      <td>02/05/2017</td>\n",
       "      <td>0</td>\n",
       "    </tr>\n",
       "    <tr>\n",
       "      <th>1</th>\n",
       "      <td>989418</td>\n",
       "      <td>2972665</td>\n",
       "      <td>13</td>\n",
       "      <td>6.0</td>\n",
       "      <td>132</td>\n",
       "      <td>1165412.0</td>\n",
       "      <td>NaN</td>\n",
       "      <td>NaN</td>\n",
       "      <td>1188128</td>\n",
       "      <td>1140080.0</td>\n",
       "      <td>...</td>\n",
       "      <td>Good</td>\n",
       "      <td>Cloudy</td>\n",
       "      <td>1312</td>\n",
       "      <td>Flat</td>\n",
       "      <td>Turf</td>\n",
       "      <td>NaN</td>\n",
       "      <td>2YO only</td>\n",
       "      <td>380</td>\n",
       "      <td>02/05/2017</td>\n",
       "      <td>0</td>\n",
       "    </tr>\n",
       "    <tr>\n",
       "      <th>2</th>\n",
       "      <td>989418</td>\n",
       "      <td>2972662</td>\n",
       "      <td>9</td>\n",
       "      <td>7.0</td>\n",
       "      <td>132</td>\n",
       "      <td>1239852.0</td>\n",
       "      <td>NaN</td>\n",
       "      <td>NaN</td>\n",
       "      <td>1199122</td>\n",
       "      <td>1448576.0</td>\n",
       "      <td>...</td>\n",
       "      <td>Good</td>\n",
       "      <td>Cloudy</td>\n",
       "      <td>1312</td>\n",
       "      <td>Flat</td>\n",
       "      <td>Turf</td>\n",
       "      <td>NaN</td>\n",
       "      <td>2YO only</td>\n",
       "      <td>380</td>\n",
       "      <td>02/05/2017</td>\n",
       "      <td>0</td>\n",
       "    </tr>\n",
       "    <tr>\n",
       "      <th>3</th>\n",
       "      <td>989418</td>\n",
       "      <td>2960365</td>\n",
       "      <td>1</td>\n",
       "      <td>12.0</td>\n",
       "      <td>132</td>\n",
       "      <td>1417524.0</td>\n",
       "      <td>NaN</td>\n",
       "      <td>NaN</td>\n",
       "      <td>1049637</td>\n",
       "      <td>1487690.0</td>\n",
       "      <td>...</td>\n",
       "      <td>Good</td>\n",
       "      <td>Cloudy</td>\n",
       "      <td>1312</td>\n",
       "      <td>Flat</td>\n",
       "      <td>Turf</td>\n",
       "      <td>NaN</td>\n",
       "      <td>2YO only</td>\n",
       "      <td>380</td>\n",
       "      <td>02/05/2017</td>\n",
       "      <td>1</td>\n",
       "    </tr>\n",
       "    <tr>\n",
       "      <th>4</th>\n",
       "      <td>989418</td>\n",
       "      <td>2968596</td>\n",
       "      <td>11</td>\n",
       "      <td>8.0</td>\n",
       "      <td>132</td>\n",
       "      <td>1354773.0</td>\n",
       "      <td>NaN</td>\n",
       "      <td>NaN</td>\n",
       "      <td>1140041</td>\n",
       "      <td>1403676.0</td>\n",
       "      <td>...</td>\n",
       "      <td>Good</td>\n",
       "      <td>Cloudy</td>\n",
       "      <td>1312</td>\n",
       "      <td>Flat</td>\n",
       "      <td>Turf</td>\n",
       "      <td>NaN</td>\n",
       "      <td>2YO only</td>\n",
       "      <td>380</td>\n",
       "      <td>02/05/2017</td>\n",
       "      <td>0</td>\n",
       "    </tr>\n",
       "  </tbody>\n",
       "</table>\n",
       "<p>5 rows × 46 columns</p>\n",
       "</div>"
      ]
     },
     "execution_count": 283,
     "metadata": {},
     "output_type": "execute_result"
    }
   ],
   "execution_count": 283
  },
  {
   "metadata": {},
   "cell_type": "markdown",
   "source": "### ***Handle Main Missing Values***",
   "id": "8dd0798b7acc3a7e"
  },
  {
   "metadata": {
    "ExecuteTime": {
     "end_time": "2025-02-03T18:43:47.401058Z",
     "start_time": "2025-02-03T18:43:47.355368Z"
    }
   },
   "cell_type": "code",
   "source": [
    "# calculate the percentage of missing values for each column\n",
    "missing_percentage = df.isnull().mean() * 100\n",
    "\n",
    "# display columns with high missing values (70% or more)\n",
    "print(missing_percentage[missing_percentage >= 70])"
   ],
   "id": "575598ead674e1c2",
   "outputs": [
    {
     "name": "stdout",
     "output_type": "stream",
     "text": [
      "AllowanceValue         95.629974\n",
      "OverweightValue        99.712105\n",
      "Blinkers               71.911241\n",
      "Hood                  100.000000\n",
      "Visor                  99.815313\n",
      "EyeShield             100.000000\n",
      "Eyecover              100.000000\n",
      "TongueStrap           100.000000\n",
      "CheekPieces           100.000000\n",
      "StatCourse             76.012385\n",
      "StatDistance           80.640430\n",
      "StatCourseDistance     79.749586\n",
      "YearBorn               85.985497\n",
      "ScheduledTime         100.000000\n",
      "dtype: float64\n"
     ]
    }
   ],
   "execution_count": 284
  },
  {
   "metadata": {
    "ExecuteTime": {
     "end_time": "2025-02-03T18:43:47.555147Z",
     "start_time": "2025-02-03T18:43:47.511293Z"
    }
   },
   "cell_type": "code",
   "source": [
    "# drop columns with more than 70% missing values\n",
    "df = df.dropna(thresh=df.shape[0] * 0.3, axis=1)"
   ],
   "id": "7a1c8c266db369f2",
   "outputs": [],
   "execution_count": 285
  },
  {
   "metadata": {
    "ExecuteTime": {
     "end_time": "2025-02-03T18:43:47.646908Z",
     "start_time": "2025-02-03T18:43:47.627209Z"
    }
   },
   "cell_type": "code",
   "source": [
    "# check remaining columns after dropping columns with high missing values \n",
    "print(df.isnull().sum())"
   ],
   "id": "d8ec0720de670912",
   "outputs": [
    {
     "name": "stdout",
     "output_type": "stream",
     "text": [
      "RaceID                 0\n",
      "HorseID                0\n",
      "Cloth                  0\n",
      "Stall                204\n",
      "WeightValue            0\n",
      "JockeyID               1\n",
      "TrainerID              0\n",
      "OwnerID              203\n",
      "LastRunDaysFlat     2519\n",
      "Age                  203\n",
      "ForecastPrice       1727\n",
      "StartingPrice       4810\n",
      "Bred                   0\n",
      "DamID                  5\n",
      "SireID                 5\n",
      "DamSireID              5\n",
      "Sex                    5\n",
      "Colour                 5\n",
      "MeetingID              0\n",
      "RaceNumber             0\n",
      "HorseCount             0\n",
      "Runners               20\n",
      "Going                378\n",
      "Weather              378\n",
      "Course_Distance        0\n",
      "RaceType              51\n",
      "TrackType             51\n",
      "Handicap           19413\n",
      "eligibility           51\n",
      "CourseID               0\n",
      "MeetingDate            0\n",
      "Won                    0\n",
      "dtype: int64\n"
     ]
    }
   ],
   "execution_count": 286
  },
  {
   "metadata": {},
   "cell_type": "markdown",
   "source": "### ***Understand the Remain Columns***",
   "id": "4da294c931160c0"
  },
  {
   "metadata": {
    "ExecuteTime": {
     "end_time": "2025-02-03T18:43:47.786575Z",
     "start_time": "2025-02-03T18:43:47.759982Z"
    }
   },
   "cell_type": "code",
   "source": [
    "categorical_features = df.select_dtypes(include=[object]).columns\n",
    "print(\"Categorical Features:\")\n",
    "categorical_features"
   ],
   "id": "87478a01bd4e0f2c",
   "outputs": [
    {
     "name": "stdout",
     "output_type": "stream",
     "text": [
      "Categorical Features:\n"
     ]
    },
    {
     "data": {
      "text/plain": [
       "Index(['Bred', 'Sex', 'Colour', 'Going', 'Weather', 'RaceType', 'TrackType',\n",
       "       'eligibility', 'MeetingDate'],\n",
       "      dtype='object')"
      ]
     },
     "execution_count": 287,
     "metadata": {},
     "output_type": "execute_result"
    }
   ],
   "execution_count": 287
  },
  {
   "metadata": {
    "ExecuteTime": {
     "end_time": "2025-02-03T18:43:47.958308Z",
     "start_time": "2025-02-03T18:43:47.936306Z"
    }
   },
   "cell_type": "code",
   "source": [
    "numeric_features = df.select_dtypes(include=[np.number]).columns\n",
    "\n",
    "print(\"Numeric Features:\")\n",
    "numeric_features"
   ],
   "id": "25c9c2117ac7e65",
   "outputs": [
    {
     "name": "stdout",
     "output_type": "stream",
     "text": [
      "Numeric Features:\n"
     ]
    },
    {
     "data": {
      "text/plain": [
       "Index(['RaceID', 'HorseID', 'Cloth', 'Stall', 'WeightValue', 'JockeyID',\n",
       "       'TrainerID', 'OwnerID', 'LastRunDaysFlat', 'Age', 'ForecastPrice',\n",
       "       'StartingPrice', 'DamID', 'SireID', 'DamSireID', 'MeetingID',\n",
       "       'RaceNumber', 'HorseCount', 'Runners', 'Course_Distance', 'Handicap',\n",
       "       'CourseID', 'Won'],\n",
       "      dtype='object')"
      ]
     },
     "execution_count": 288,
     "metadata": {},
     "output_type": "execute_result"
    }
   ],
   "execution_count": 288
  },
  {
   "metadata": {},
   "cell_type": "markdown",
   "source": [
    "# --- Exploratory Data Analysis ---\n",
    "### ***Missing Values & Data Quality***"
   ],
   "id": "54e5f5fa3efb2a88"
  },
  {
   "metadata": {
    "ExecuteTime": {
     "end_time": "2025-02-03T18:43:48.432092Z",
     "start_time": "2025-02-03T18:43:48.070418Z"
    }
   },
   "cell_type": "code",
   "source": [
    "# remaining missing values by column\n",
    "missing_percentage = df.isnull().mean() * 100\n",
    "missing_data_chart = missing_percentage[missing_percentage > 0].sort_values()\n",
    "\n",
    "# plot bar chart\n",
    "missing_data_chart.plot(kind='barh', figsize=(10, 6))\n",
    "plt.title('Missing Data Percentage by Column')\n",
    "plt.xlabel('Percentage of Missing Data')\n",
    "plt.show()"
   ],
   "id": "bbc957534f5559fa",
   "outputs": [
    {
     "data": {
      "text/plain": [
       "<Figure size 1000x600 with 1 Axes>"
      ],
      "image/png": "[encoded data removed]"
     },
     "metadata": {},
     "output_type": "display_data"
    }
   ],
   "execution_count": 289
  },
  {
   "metadata": {},
   "cell_type": "markdown",
   "source": [
    "- Even after removing columns with more than 70% missing data, several columns in the dataset still contain missing values. Notably, the 'Handicap' column has over 50% of its data missing. Given the significant proportion of missing data, imputing values in such columns could lead to biased or misleading results. In this case, it would be best to drop the column entirely if it is not essential for future analysis.\n",
    "- For other columns with missing values, different imputation strategies can be applied:\n",
    "  - Categorical variables: the mode or a placeholder such as \"Unknown\" could be suitable.\n",
    "  - Numerical columns: mean or median imputation may be more appropriate, depending on the data distribution.\n",
    "  - Columns with a high percentage of missing values: dropping the column could be a more effective option to avoid introducing bias."
   ],
   "id": "cbdd566972cc1140"
  },
  {
   "metadata": {},
   "cell_type": "markdown",
   "source": "### ***Outlier Detection***",
   "id": "e5fa295b80c6a7c9"
  },
  {
   "metadata": {
    "ExecuteTime": {
     "end_time": "2025-02-03T18:43:48.973405Z",
     "start_time": "2025-02-03T18:43:48.450435Z"
    }
   },
   "cell_type": "code",
   "source": [
    "# plot boxplot \n",
    "numerical_columns = ['ForecastPrice', 'StartingPrice']\n",
    "plt.figure(figsize=(12, 6))\n",
    "sns.boxplot(data=df[numerical_columns])\n",
    "plt.title('Box Plots for Numerical Variables')\n",
    "plt.show()"
   ],
   "id": "4a545b70b1bd9d24",
   "outputs": [
    {
     "data": {
      "text/plain": [
       "<Figure size 1200x600 with 1 Axes>"
      ],
      "image/png": "[encoded data removed]"
     },
     "metadata": {},
     "output_type": "display_data"
    }
   ],
   "execution_count": 290
  },
  {
   "metadata": {},
   "cell_type": "markdown",
   "source": [
    "- This boxplot shows the distribution of 'ForecastPrice' and 'StartingPrice' with a visual representation of the median, quartiles (Q1 and Q3) and potential outliers.\n",
    "- The wider whiskers and more outliers in the 'StartingPrice' boxplot suggests that it highly unpredictable and that there could be more factors influencing the final price before the race, e.g. external factors like betting activity, last-minute changes or market conditions. This indicates that the 'StartingPrice' might reflect real-time market forces more than 'ForecastPrice,' which could be calculated earlier or based on other factors.\n",
    "- Since both 'ForecastPrice' and 'StartingPrice' are left-skewed, this suggests that most prices are lower and the higher price points could represent special cases (e.g. well-known horses or major races). The skewness also reflects how the majority of horses might be priced lower, with only a few exceptional cases driving higher prices.\n",
    "- Both 'ForecastPrice' and 'StartingPrice' contain some missing data, with 'StartingPrice' having a notably higher proportion of missing values. This missing data could lead to bias or errors in the analysis if it is not handled carefully. "
   ],
   "id": "2eb365cda28b542e"
  },
  {
   "metadata": {},
   "cell_type": "markdown",
   "source": "### ***Top 10 Most Frequent Trainers***",
   "id": "dad88c8b4849e744"
  },
  {
   "metadata": {
    "ExecuteTime": {
     "end_time": "2025-02-03T18:43:49.657138Z",
     "start_time": "2025-02-03T18:43:49.023903Z"
    }
   },
   "cell_type": "code",
   "source": [
    "# top 10 most frequent trainers   \n",
    "top_trainers = df['TrainerID'].value_counts().head(10)\n",
    "\n",
    "# plot bar chart \n",
    "plt.figure(figsize=(10, 6))\n",
    "top_trainers.plot(kind='barh')\n",
    "plt.title('Top 10 Most Frequent Trainers')\n",
    "plt.xlabel('Number of Horses')\n",
    "plt.ylabel('Trainer')\n",
    "plt.show()"
   ],
   "id": "de72f327c9622fb6",
   "outputs": [
    {
     "data": {
      "text/plain": [
       "<Figure size 1000x600 with 1 Axes>"
      ],
      "image/png": "[encoded data removed]"
     },
     "metadata": {},
     "output_type": "display_data"
    }
   ],
   "execution_count": 291
  },
  {
   "metadata": {},
   "cell_type": "markdown",
   "source": [
    "- This shows which trainers have the most horses participating in races, indicating their influence on the racing industry. \n",
    "- Trainers with the most horses (such as Trainer 1140038) may well-established in the racing industry with a large network of owners and horses, therefore, these trainers are likely to be very active and have extensive experience managing multiple horses in races.\n",
    "- Having a large number of horses could allow trainers to experiment with different strategies and training approaches, which can improve their success rate and help in adapting to different race conditions or competitors."
   ],
   "id": "d0b7763e45d5d52"
  },
  {
   "metadata": {},
   "cell_type": "markdown",
   "source": "### ***Win Rate of Top 10 Most Frequent Trainers***",
   "id": "44a69e4114fb9ec4"
  },
  {
   "metadata": {
    "ExecuteTime": {
     "end_time": "2025-02-03T18:43:50.430464Z",
     "start_time": "2025-02-03T18:43:49.800663Z"
    }
   },
   "cell_type": "code",
   "source": [
    "# count total races and wins per trainer\n",
    "trainer_stats = df.groupby('TrainerID').agg(\n",
    "    races_entered=('TrainerID', 'count'),\n",
    "    races_won=('Won', 'sum'))\n",
    "\n",
    "\n",
    "# calculate win rate\n",
    "trainer_stats['win_rate'] = trainer_stats['races_won'] / trainer_stats['races_entered']  \n",
    "\n",
    "# top 10 trainers by races entered  \n",
    "top_trainers_win_rate = trainer_stats.nlargest(10, 'races_entered')  \n",
    "\n",
    "# plot bar chart  \n",
    "plt.figure(figsize=(10, 6))  \n",
    "top_trainers_win_rate['win_rate'].plot(kind='barh', color='lightcoral')  \n",
    "\n",
    "plt.title('Win Rate of Top 10 Most Frequent Trainers')  \n",
    "plt.xlabel('Win Rate')  \n",
    "plt.ylabel('Trainer ID')  \n",
    "plt.show()  "
   ],
   "id": "c05617c2fe401224",
   "outputs": [
    {
     "data": {
      "text/plain": [
       "<Figure size 1000x600 with 1 Axes>"
      ],
      "image/png": "[encoded data removed]"
     },
     "metadata": {},
     "output_type": "display_data"
    }
   ],
   "execution_count": 292
  },
  {
   "metadata": {},
   "cell_type": "markdown",
   "source": [
    "- This analysis helps us understand the relationship between the number of races entered and the number of races won by each trainer. \n",
    "- While Trainer 1140038 trained the most horses, Trainer 1079218 (who ranked 10th in horses trained) had the highest win rate. This highlights that the number of horses trained does not always correlate with success. Trainers with fewer horses may focus on quality, while those with more may have a broader pool, influencing their win rate.\n",
    "- Information about trainer win rates can be valuable for bettors when predicting race outcomes. A higher win rate could make certain trainers more favorable, but analysing race conditions (e.g., horse age, weather) and specific race types could provide additional insight."
   ],
   "id": "10a39212f0324e7a"
  },
  {
   "metadata": {},
   "cell_type": "markdown",
   "source": "### ***Count of Horses by Colour***",
   "id": "e8b46e2e1f316730"
  },
  {
   "metadata": {
    "ExecuteTime": {
     "end_time": "2025-02-03T18:43:50.943597Z",
     "start_time": "2025-02-03T18:43:50.504044Z"
    }
   },
   "cell_type": "code",
   "source": [
    "# plot bar chart \n",
    "plt.figure(figsize=(10, 6))\n",
    "sns.countplot(y='Colour', data=df, order=df['Colour'].value_counts().index)\n",
    "plt.title('Distribution of Horse Colours')\n",
    "plt.xlabel('Count')\n",
    "plt.ylabel('Colour')\n",
    "plt.show()"
   ],
   "id": "3fc13145bac0433c",
   "outputs": [
    {
     "data": {
      "text/plain": [
       "<Figure size 1000x600 with 1 Axes>"
      ],
      "image/png": "[encoded data removed]"
     },
     "metadata": {},
     "output_type": "display_data"
    }
   ],
   "execution_count": 293
  },
  {
   "metadata": {},
   "cell_type": "markdown",
   "source": [
    "- This plot shows the distribution of horse colours in the dataset. \n",
    "- Colour 'b' is the most dominant, which could reflect a significant trend in the industry. This may be linked to factors such as breeding practices, cultural preferences or external influences like betting trends or marketability. \n",
    "\n"
   ],
   "id": "f88812d1c5118fff"
  },
  {
   "metadata": {
    "ExecuteTime": {
     "end_time": "2025-02-03T18:43:51.021526Z",
     "start_time": "2025-02-03T18:43:50.994593Z"
    }
   },
   "cell_type": "code",
   "source": "### ***Distribution of Horse Ages***",
   "id": "78d890fe1de5a950",
   "outputs": [],
   "execution_count": 294
  },
  {
   "metadata": {
    "ExecuteTime": {
     "end_time": "2025-02-03T18:43:51.478927Z",
     "start_time": "2025-02-03T18:43:51.120633Z"
    }
   },
   "cell_type": "code",
   "source": [
    "# plot a histogram \n",
    "plt.figure(figsize=(10, 6))\n",
    "sns.histplot(df['Age'], kde=False, color='blue', bins=20, discrete=True)\n",
    "plt.title('Distribution of Horse Ages')\n",
    "plt.xlabel('Age')\n",
    "plt.ylabel('Frequency')\n",
    "plt.show()"
   ],
   "id": "5f34b5012b8722f",
   "outputs": [
    {
     "data": {
      "text/plain": [
       "<Figure size 1000x600 with 1 Axes>"
      ],
      "image/png": "[encoded data removed]"
     },
     "metadata": {},
     "output_type": "display_data"
    }
   ],
   "execution_count": 295
  },
  {
   "metadata": {},
   "cell_type": "markdown",
   "source": [
    "- This histogram shows the distribution of horse ages, with the highest concentration of horses between the ages of 3 and 5. The distribution is left-skewed, with age 4 being the most common. After age 4, there is a noticeable decline in the number of horses, suggesting that fewer horses race as they get older.\n",
    "- The drop in the number of horses over age 4 may indicate that the racing industry tends to favour younger horses for competition. Older horses may be moved to other roles, such as breeding or retirement."
   ],
   "id": "906cdee91cf2d2e6"
  },
  {
   "metadata": {},
   "cell_type": "markdown",
   "source": [
    "# --- Conclusion ---\n",
    "\n",
    "The EDA of the horse dataset provides many valuable insights into horse racing, trainers and their performance. \n",
    "\n",
    "Some of the key findings include:\n",
    "- **Trainer Performance:** Certain trainers are more frequently involved in races and their win rates offer insights into their experience and success rates. This could suggest a correlation between a trainer’s experience and performance. \n",
    "\n",
    "- **Age Distribution of Horses:** The dataset reveals that most horses are between 3 and 5 years old, indicating that younger horses tend to be used in races. This could influence decisions related to breeding, training, or scheduling of races. \n",
    "\n",
    "- **Colour of Horses:** The majority of horses are identified with the colour 'b', which raises questions about the relationship between a horse's colour and its race success, or whether certain colours are preferred by owners or trainers. \n",
    "\n",
    "- **Data Quality and Outliers:** Outliers were identified in several key numerical columns, such as 'StartingPrice' and 'ForecastPrice'. These should be handled with care in further analysis, as they could skew results or reflect underlying market conditions. \n",
    "\n",
    "\n",
    "\n",
    "# --- Future Considerations ---\n",
    "\n",
    "- **Data Quality:** It is essential to address missing values properly before conducting any analysis to ensure data quality and avoid inaccurate conclusions. Additionally, future data collection should focus on ensuring complete and accurate data, which would improve the reliability of future analyses.\n",
    "\n",
    "- **Variability in Starting Price:** Further investigation could be done to explore the reasons behind the higher variability in 'StartingPrice'. This might involve analysing factors such as horse reputation, trainer performance or race-day conditions. Additionally, exploring correlations between outliers and specific race events or external factors could provide deeper insights into the drivers of these fluctuations.\n",
    "\n",
    "- **Horse Colour and Performance:** Given the significant gap between the top two horse colours, it may be valuable to explore whether certain trainers, owners or races are more likely to feature horses of colour 'b'. Investigating the relationship between horse colour and win rates could also offer valuable insights into performance trends.\n",
    "\n",
    "- **Trainer Performance under Specific Conditions:** Exploring whether certain trainers perform better under specific conditions (e.g. weather, horse age, track surface) or in particular race types could uncover patterns that help optimise training and race strategies.\n",
    "\n",
    "- **Jockey and Horse Performance Analysis:** A similar approach could be applied to analysing jockey and horse performance, identifying patterns in their success rates across different conditions and race types.\n",
    "\n",
    "- **Age and Race Type Correlation:** Investigating whether younger horses perform better in races or if certain race types are more common among specific age groups could lead to further insights into the impact of age on performance."
   ],
   "id": "af11a5a3ee28ab87"
  }
 ],
 "metadata": {
  "kernelspec": {
   "display_name": "Python 3",
   "language": "python",
   "name": "python3"
  },
  "language_info": {
   "codemirror_mode": {
    "name": "ipython",
    "version": 2
   },
   "file_extension": ".py",
   "mimetype": "text/x-python",
   "name": "python",
   "nbconvert_exporter": "python",
   "pygments_lexer": "ipython2",
   "version": "2.7.6"
  }
 },
 "nbformat": 4,
 "nbformat_minor": 5
}
